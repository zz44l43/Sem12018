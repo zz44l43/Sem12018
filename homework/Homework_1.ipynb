{
 "cells": [
  {
   "cell_type": "markdown",
   "metadata": {},
   "source": [
    "# Homework 1: Preprocessing and Text Classification"
   ]
  },
  {
   "cell_type": "markdown",
   "metadata": {
    "collapsed": true
   },
   "source": [
    "Student Name: Zhi Zheng\n",
    "\n",
    "Student ID: 327965\n",
    "\n",
    "Python version used: 2.7"
   ]
  },
  {
   "cell_type": "markdown",
   "metadata": {},
   "source": [
    "## General info"
   ]
  },
  {
   "cell_type": "markdown",
   "metadata": {},
   "source": [
    "<b>Due date</b>: 11pm, Sunday March 18th\n",
    "\n",
    "<b>Submission method</b>: see LMS\n",
    "\n",
    "<b>Submission materials</b>: completed copy of this iPython notebook\n",
    "\n",
    "<b>Late submissions</b>: -20% per day\n",
    "\n",
    "<b>Marks</b>: 5% of mark for class\n",
    "\n",
    "<b>Overview</b>: In this homework, you'll be using a corpus of tweets to do tokenisation of hashtags and build polarity classifers using bag of word (BOW) features.\n",
    "\n",
    "<b>Materials</b>: See the main class LMS page for information on the basic setup required for this class, including an iPython notebook viewer and the python packages NLTK, Numpy, Scipy, Matplotlib, Scikit-Learn, and Gensim. In particular, if you are not using a lab computer which already has it installed, we recommend installing all the data for NLTK, since you will need various parts of it to complete this assignment. You can also use any Python built-in packages, but do not use any other 3rd party packages (the packages listed above are all fine to use); if your iPython notebook doesn't run on the marker's machine, you will lose marks.  \n",
    "\n",
    "<b>Evaluation</b>: Your iPython notebook should run end-to-end without any errors in a few minutes, and you must follow all instructions provided below, including specific implementation requirements and instructions for what needs to be printed (please avoid printing output we don't ask for). The amount each section is worth is given in parenthesis after the instructions. You will be marked not only on the correctness of your methods, but also the quality and efficency of your code: in particular, you should be careful to use Python built-in functions and operators when appropriate and pick descriptive variable names that adhere to <a href=\"https://www.python.org/dev/peps/pep-0008/\">Python style requirements</a>. If you think it might be unclear what you are doing, you should comment your code to help the marker make sense of it.\n",
    "\n",
    "<b>Extra credit</b>: Each homework has a task which is optional with respect to getting full marks on the assignment, but that can be used to offset any points lost on this or any other homework assignment (but not the final project or the exam). We recommend you skip over this step on your first pass, and come back if you have time: the amount of effort required to receive full marks (1 point) on an extra credit question will be substantially more than earning the same amount of credit on other parts of the homework.\n",
    "\n",
    "<b>Updates</b>: Any major changes to the assignment will be announced via LMS. Minor changes and clarifications will be announced in the forum on LMS, we recommend you check the forum regularly.\n",
    "\n",
    "<b>Academic Misconduct</b>: For most people, collaboration will form a natural part of the undertaking of this homework, and we encourge you to discuss it in general terms with other students. However, this ultimately is still an individual task, and so reuse of code or other instances of clear influence will be considered cheating. We will be checking submissions for originality and will invoke the University’s <a href=\"http://academichonesty.unimelb.edu.au/policy.html\">Academic Misconduct policy</a> where inappropriate levels of collusion or plagiarism are deemed to have taken place.\n"
   ]
  },
  {
   "cell_type": "markdown",
   "metadata": {},
   "source": [
    "## Preprocessing"
   ]
  },
  {
   "cell_type": "markdown",
   "metadata": {
    "collapsed": true
   },
   "source": [
    "<b>Instructions</b>: For this homework we will be using the tweets in the <i>twitter_samples</i> corpus included with NLTK. You should start by accessing these tweets. Use the <i>strings</i> method included in the NLTK corpus reader for <i>twitter_samples</i> to access the tweets (as raw strings). Iterate over the full corpus, and print out the average length, in characters, of the tweets in the corpus. (0.5)\n"
   ]
  },
  {
   "cell_type": "code",
   "execution_count": 1,
   "metadata": {},
   "outputs": [
    {
     "name": "stdout",
     "output_type": "stream",
     "text": [
      "[nltk_data] Downloading package twitter_samples to\n",
      "[nltk_data]     C:\\Users\\zhi\\AppData\\Roaming\\nltk_data...\n",
      "[nltk_data]   Package twitter_samples is already up-to-date!\n",
      "The average length, in characters, of the tweets in the corpus is 5.1294\n"
     ]
    }
   ],
   "source": [
    "import nltk\n",
    "from nltk.corpus import twitter_samples\n",
    "from nltk.tokenize import TweetTokenizer\n",
    "try :\n",
    "    nltk.data.find('twitter_samples')\n",
    "except LookupError:\n",
    "    nltk.download('twitter_samples')\n",
    "twitter_string = twitter_samples.strings()\n",
    "tokenizer = TweetTokenizer()\n",
    "total_tweets = 0\n",
    "for tweet in twitter_string:\n",
    "    num_char = len(tweet)\n",
    "    num_words = len(tokenizer.tokenize(tweet))\n",
    "    per_tweet = round(num_char/num_words)\n",
    "    total_tweets += per_tweet\n",
    "avg = total_tweets / len(twitter_string)\n",
    "print(\"The average length, in characters, of the tweets in the corpus is {}\".format(avg))"
   ]
  },
  {
   "cell_type": "markdown",
   "metadata": {},
   "source": [
    "<b>Instructions</b>: Hashtags (i.e. topic tags which start with #) pose an interesting tokenisation problem because they often include multiple words written without spaces or capitalization. You should use a regular expression to extract all hashtags of length 8 or longer which consist only of lower case letters (other than the # at the beginning, of course, though this should be stripped off as part of the extraction process). Do <b>not</b> tokenise the entire tweet as part of this process. The hashtag might occur at the beginning or the end of the tweet; you should double-check that you aren't missing any. After you have collected them into a list, print out number of hashtags you have collected: for full credit, you must get the exact number that we expect.  (1.0)"
   ]
  },
  {
   "cell_type": "code",
   "execution_count": 2,
   "metadata": {},
   "outputs": [
    {
     "name": "stdout",
     "output_type": "stream",
     "text": [
      "1134\n"
     ]
    }
   ],
   "source": [
    "import re\n",
    "total_hash = 0\n",
    "hash_word = []\n",
    "for tweet in twitter_string:\n",
    "    hash_string =  re.findall(r\"\\B#{1}([a-z]{8,})\\s|([a-z]{8,})#{1}\\B\", tweet)\n",
    "    total_hash += len(hash_string)\n",
    "    if(len(hash_string) > 0):\n",
    "        for hash_group in hash_string:\n",
    "            if(hash_group[0] !=''):\n",
    "                hash_word.append(hash_group[0])\n",
    "            else:\n",
    "                hash_word.append(hash_group[1])\n",
    "print(len(hash_word))"
   ]
  },
  {
   "cell_type": "markdown",
   "metadata": {},
   "source": [
    "<b>Instructions</b>: Now, tokenise the hashtags you've collected. To do this, you should implement a reversed version of the MaxMatch algorithm discussed in class (and in the reading), where matching begins at the end of the hashtag and progresses backwards. NLTK has a list of words that you can use for matching, see starter code below. Be careful about efficiency with respect to doing word lookups. One extra challenge you have to deal with is that the provided list of words includes only lemmas: your MaxMatch algorithm should match inflected forms by converting them into lemmas using the NLTK lemmatiser before matching. Note that the list of words is incomplete, and, if you are unable to make any longer match, your code should default to matching a single letter. Create a new list of tokenised hashtags (this should be a list of lists of strings) and use slicing to print out the last 20 hashtags in the list. (1.0)"
   ]
  },
  {
   "cell_type": "code",
   "execution_count": 3,
   "metadata": {
    "scrolled": true
   },
   "outputs": [
    {
     "name": "stdout",
     "output_type": "stream",
     "text": [
      "[nltk_data] Downloading package words to\n",
      "[nltk_data]     C:\\Users\\zhi\\AppData\\Roaming\\nltk_data...\n",
      "[nltk_data]   Package words is already up-to-date!\n"
     ]
    }
   ],
   "source": [
    "try :\n",
    "    nltk.data.find('words')\n",
    "except LookupError:\n",
    "    nltk.download('words')\n",
    "unique_word = set(hash_word)\n",
    "words = nltk.corpus.words.words() # words is a Python list\n",
    "from nltk.stem import WordNetLemmatizer  \n",
    "wordlist = set(words)  \n",
    "wordnet_lemmatizer = nltk.stem.wordnet.WordNetLemmatizer()\n",
    "def max_match_reverse(text):\n",
    "    pos2 = len(text)\n",
    "    init_pos = 0\n",
    "    result = ''\n",
    "    while len(text) > 0:\n",
    "        raw_word = text[init_pos:len(text)]\n",
    "        word = wordnet_lemmatizer.lemmatize(raw_word)\n",
    "        if word in wordlist:\n",
    "            result = raw_word + ' ' + result\n",
    "            text = text[:init_pos]\n",
    "            init_pos = 0\n",
    "        else:\n",
    "            init_pos +=1\n",
    "\n",
    "    return result[0:-1]\n"
   ]
  },
  {
   "cell_type": "code",
   "execution_count": 4,
   "metadata": {},
   "outputs": [
    {
     "name": "stdout",
     "output_type": "stream",
     "text": [
      "[nltk_data] Downloading package wordnet to\n",
      "[nltk_data]     C:\\Users\\zhi\\AppData\\Roaming\\nltk_data...\n",
      "[nltk_data]   Package wordnet is already up-to-date!\n"
     ]
    },
    {
     "data": {
      "text/plain": [
       "[u'no idea wha ti m doing',\n",
       " u'tele c o ms',\n",
       " u'politics',\n",
       " u'right wing',\n",
       " u'education',\n",
       " u'mi li fandom',\n",
       " u'body language',\n",
       " u'f racking',\n",
       " u'liberal democrat',\n",
       " u'warehouse',\n",
       " u'feel good f r i day',\n",
       " u'o bs essed',\n",
       " u'election debate',\n",
       " u'sexy sa tur day',\n",
       " u'cat chin gup',\n",
       " u'labour logic',\n",
       " u'di y flowers',\n",
       " u'under c o verb oss',\n",
       " u'together',\n",
       " u'a us fa ilia']"
      ]
     },
     "execution_count": 4,
     "metadata": {},
     "output_type": "execute_result"
    }
   ],
   "source": [
    "try :\n",
    "    nltk.data.find('wordnet')\n",
    "except LookupError:\n",
    "    nltk.download('wordnet')\n",
    "reverse_max_match_words = []\n",
    "for word in unique_word:\n",
    "    reverse_max_match_words.append(max_match_reverse(word))\n",
    "    \n",
    "reverse_max_match_words[-20:]"
   ]
  },
  {
   "cell_type": "markdown",
   "metadata": {},
   "source": [
    "### Extra Credit (Optional)\n",
    "<b>Instructions</b>: Implement the forward version of the MaxMatch algorithm as well, and print out all the hashtags which give different results for the two versions of MaxMatch. Your main task is to come up with a good way to select which of the two segmentations is better for any given case, and demonstrate that it works significantly better than using a single version of the algorithm for all hashtags. (1.0)"
   ]
  },
  {
   "cell_type": "code",
   "execution_count": 5,
   "metadata": {},
   "outputs": [],
   "source": [
    "def max_match(text):\n",
    "    raw_text = text\n",
    "    pos2 = len(text)  \n",
    "    result = ''  \n",
    "    while len(text) > 0:         \n",
    "        word = wordnet_lemmatizer.lemmatize(text[0:pos2])  \n",
    "        if word in wordlist:  \n",
    "            result = result + text[0:pos2] + ' '  \n",
    "            text = text[pos2:]  \n",
    "            pos2 = len(text)  \n",
    "        else:  \n",
    "            pos2 = pos2-1                 \n",
    "    return result[0:-1]"
   ]
  },
  {
   "cell_type": "code",
   "execution_count": 6,
   "metadata": {
    "scrolled": true
   },
   "outputs": [
    {
     "name": "stdout",
     "output_type": "stream",
     "text": [
      "The different between the reverse max match and max match are the following: \n",
      "[u'ask fa rage', u'c h ama lie res', u'rude man slap down', u'b i ase d b b c', u'you rewelcome', u'de c o rating', u'n om n om n om', u'or ca love', u'ni gel fa rage', u'ins ta gram', u'm elb our ne bur gers', u's inn fe in', u'bairn snot bombs', u'scot ti sh labour', u'cant be arse d m ps', u'hot f m no ai di l for ar i ana', u'web cam sex', u'b log p or n star', u'we are all do o me d', u'de di ca ted fan', u'stum b legate', u'sex ta ate q u em fi m seg u es d v c om v alen ti no', u'general election', u'e jay st er', u'nos hit sherlock', u'the reis no escape', u'ask ni cola sturgeon', u'horse racing tips', u'social security', u'might of gotten cham pan ge', u'i need feminism because', u'i m mig ratio nu k', u'st afford', u'k i k m enow', u'hyp ocracy', u'yo g yak ar ta', u'green surge', u'b b loggers', u'vote labour or else', u'sa bad ode ga nar seg u id ores', u'photo of the day', u'crowd fun ding', u'w he reis the sun', u'vs c o cousins', u'healthy life style', u'mil li brand cuts', u'get to the point', u'hind u god', u'f avo u rites', u'super smash', u'de f f o not p c', u'unite right', u'pro sec c o', u'li v eon st rea mate', u'takes one to k no wone', u'hot n sexy', u'm anon the left', u'an tag had h', u'ho v eh u stings', u'el find elm undo', u'mil li band', u'ask ni gel', u's to pu kip', u'l un go mare', u'or g anise d', u'p r em io stum undo', u'love summertime', u'great storm', u'w upper tal', u'h or rib leman', u'i gers of the day', u'f o ie g ras', u'scot lan dis massive', u'cycle revolution', u'han ni bal', u'bra si lei ra o', u'hot music de lo c os', u'd avid nag hi', u'video g rap her', u'matter of the heart', u'd avid cam er on tweet', u'j i ha di brides', u'h ar de st challenge', u'j i ha di j oh n', u'mi li brand cuts', u'h u ga husky', u'phone sex', u'no more lies', u'p b loggers', u't hes trug g leis real', u'horse racing', u'con g rats', u's cotland', u'mi li stumble', u'immigrant solution', u'teng k u a ar on shah', u'k i k sex ting', u'z ay nis coming back', u'ha v ea good day', u'messenger for aday', u'al exs almond', u'man chester', u'g i a c hie tit ti wedding', u'f r i day feeling', u'cloud coo ko o', u'k i k k om ansa bor', u'binding of is sac', u'nick c l egg', u'a shram calling', u'e d mil li band', u'l on do u trading', u'e d mi li band', u'you reap what you sow', u'to rie manifesto', u'b randing', u'add m eon b b m', u'v o t eu kip', u'f rust rated', u'c l eggers', u'j our no request', u'ni te flirt', u'my pap amy pride', u'n erd lover', u'frisky f r i day', u'mar ga ret hod ge', u'word of the week', u'r u drama dev i', u'the world would change', u'n om n ey left', u'la tinhouse', u'tea party', u'lo u i si ana', u's adman ona train', u'i sit right', u'k e e pit local', u'she skin da hot', u'frisky fi day', u'ins ta good', u'extreme sports', u'l b loggers', u'sexy sa sun day', u'ex p loreal ber ta', u'in die music', u'super heroes', u'deals ut hao note ba chao', u'sin ga pore', u'oh b r otherwhere art thou', u's love ni a', u'dis n ey infinity', u'mi li band', u's tal ber t', u'mi li brand', u'wat k ie st n l', u'do copen h agen', u'star tups', u'p e na c ova', u's tur wars', u'q a tar airways', u'z or r ore tur ms', u'add m eon snap chat', u'be stof the day', u'b eme code', u'che c king', u'self shot', u'the g ran dad', u'y ay they look great', u'grant shap ps', u'f ah r in ah mad', u'l even son', u'sunn yday', u'ba tal lad el os gall os', u'qua c ket y quack', u'm p ona train', u'just no tup toit', u'w alan g ma kaka pig i ls akin', u'trace request', u'mil li brand', u'can nab is', u'or g anise d crime', u't el lan old joke day', u'taking jobs off b r i ti sh people', u'working c las story', u'justice f o rab used children', u're alo shi', u'li b d em problems', u'v i ernes d er olena hot', u'f r en c h gate', u'al li nit together', u'vs c o good', u's c i fi fan', u'nick robin son', u'b loggers re q u i red', u'it sa marvel thing', u'top travel c en tar', u'a th abas ca', u'vs c o phi l', u'no idea wha ti m doing', u'tele c o ms', u'mi li fandom', u'f racking', u'feel good f r i day', u'sexy sa tur day', u'cat chin gup', u'under c o verb oss', u'a us fa ilia']\n"
     ]
    }
   ],
   "source": [
    "max_match_words = []\n",
    "for word in unique_word:\n",
    "    max_match_words.append(max_match(word))\n",
    "diff = [item for item in reverse_max_match_words if item not in max_match_words]\n",
    "print(\"The different between the reverse max match and max match are the following: \")\n",
    "print(diff)"
   ]
  },
  {
   "cell_type": "code",
   "execution_count": 7,
   "metadata": {
    "collapsed": true
   },
   "outputs": [],
   "source": [
    "def select_max_match(text):\n",
    "    reverse = max_match_reverse(text)\n",
    "    forward = max_match(text)\n",
    "    if(len(reverse) <= len(forward)):\n",
    "        return reverse\n",
    "    return forward\n",
    "max_match_select_words = []\n",
    "for word in unique_word:\n",
    "    max_match_select_words.append(select_max_match(word))"
   ]
  },
  {
   "cell_type": "code",
   "execution_count": 8,
   "metadata": {
    "scrolled": true
   },
   "outputs": [
    {
     "name": "stdout",
     "output_type": "stream",
     "text": [
      "The algorithm that return the minimum length of the words will more likely to be the right choice. For example the following\n",
      "The forward algorithm return this: loves um me r time\n",
      "The reverse algorithm return this: love summertime\n",
      "So the new algorithm will select the value that from the reverse algorithm and produces this: love summertime\n",
      "This had demonstrated the new algorighm has better performance in yielding the good outcome and work better than significantly better than using a single version of the algorithm for all hashtags\n"
     ]
    }
   ],
   "source": [
    "print(\"The algorithm that return the minimum length of the words will more likely to be the right choice. For example the following\")\n",
    "print(\"The forward algorithm return this: {}\".format(max_match_words[152]))\n",
    "print(\"The reverse algorithm return this: {}\".format(reverse_max_match_words[152]))\n",
    "print(\"So the new algorithm will select the value that from the reverse algorithm and produces this: {}\".format(max_match_select_words[152]))\n",
    "print(\"This had demonstrated the new algorighm has better performance in yielding the good outcome and work better than significantly better than using a single version of the algorithm for all hashtags\")"
   ]
  },
  {
   "cell_type": "markdown",
   "metadata": {},
   "source": [
    "## Text classification (Not Optional)"
   ]
  },
  {
   "cell_type": "markdown",
   "metadata": {},
   "source": [
    "<b>Instructions</b>: The twitter_sample corpus has two subcorpora corresponding to positive and negative tweets. You can access already tokenised versions using the <i> tokenized </i> method, as given in the code sample below. Iterate through these two corpora and build training, development, and test sets for use with Scikit-learn. You should exclude stopwords (from the built-in NLTK list) and tokens with non-alphabetic characters (this is very important you do this because emoticons were used to build the corpus, if you don't remove them performance will be artificially high). You should randomly split each subcorpus, using 80% of the tweets for training, 10% for development, and 10% for testing; make sure you do this <b>before</b> combining the tweets from the positive/negative subcorpora, so that the sets are <i>stratified</i>, i.e. the exact ratio of positive and negative tweets is preserved across the three sets. (1.0)"
   ]
  },
  {
   "cell_type": "code",
   "execution_count": 9,
   "metadata": {
    "scrolled": false
   },
   "outputs": [
    {
     "name": "stdout",
     "output_type": "stream",
     "text": [
      "[nltk_data] Downloading package stopwords to\n",
      "[nltk_data]     C:\\Users\\zhi\\AppData\\Roaming\\nltk_data...\n",
      "[nltk_data]   Package stopwords is already up-to-date!\n"
     ]
    }
   ],
   "source": [
    "positive_tweets = nltk.corpus.twitter_samples.tokenized(\"positive_tweets.json\")\n",
    "negative_tweets = nltk.corpus.twitter_samples.tokenized(\"negative_tweets.json\")\n",
    "try :\n",
    "    nltk.data.find('stopwords')\n",
    "except LookupError:\n",
    "    nltk.download('stopwords')\n",
    "from nltk.corpus import stopwords\n",
    "filtered_positive_words =[[word for word in words if word not in stopwords.words('english')] for words in positive_tweets]\n",
    "filtered_negative_words =[[word for word in words if word not in stopwords.words('english')] for words in negative_tweets]"
   ]
  },
  {
   "cell_type": "code",
   "execution_count": 10,
   "metadata": {
    "collapsed": true
   },
   "outputs": [],
   "source": [
    "filtered_non_alphabetic_positive_words = [[word for word in words if re.match(r'[^a-zA-Z]+', word) == None] for words in filtered_positive_words]\n",
    "filtered_non_alphabetic_negative_words = [[word for word in words if re.match(r'[^a-zA-Z]+', word) == None] for words in filtered_negative_words]"
   ]
  },
  {
   "cell_type": "code",
   "execution_count": 11,
   "metadata": {},
   "outputs": [],
   "source": [
    "import random\n",
    "random.shuffle(filtered_non_alphabetic_positive_words)\n",
    "positive_train_data = filtered_non_alphabetic_positive_words[:int((len(filtered_non_alphabetic_positive_words)+1)*.80)]\n",
    "positive_development_data = filtered_non_alphabetic_positive_words[int((len(filtered_non_alphabetic_positive_words)+1)*.80):int((len(filtered_non_alphabetic_positive_words)+1)*.90)]\n",
    "positive_test_data = filtered_non_alphabetic_positive_words[int((len(filtered_non_alphabetic_positive_words)+1)*.90):]"
   ]
  },
  {
   "cell_type": "code",
   "execution_count": 12,
   "metadata": {},
   "outputs": [],
   "source": [
    "random.shuffle(filtered_non_alphabetic_negative_words)\n",
    "negative_train_data = filtered_non_alphabetic_negative_words[:int((len(filtered_non_alphabetic_negative_words)+1)*.80)]\n",
    "negative_development_data = filtered_non_alphabetic_negative_words[int((len(filtered_non_alphabetic_negative_words)+1)*.80):int((len(filtered_non_alphabetic_positive_words)+1)*.90)]\n",
    "negative_test_data = filtered_non_alphabetic_negative_words[int((len(filtered_non_alphabetic_negative_words)+1)*.90):]"
   ]
  },
  {
   "cell_type": "code",
   "execution_count": 13,
   "metadata": {
    "collapsed": true
   },
   "outputs": [],
   "source": [
    "positive_train_new_words_list = []\n",
    "for words_list in positive_train_data:\n",
    "    positive_train_new_words_list.append(' '.join(words_list))\n",
    "negative_train_new_words_list = []\n",
    "for words_list in negative_train_data:\n",
    "    negative_train_new_words_list.append(' '.join(words_list)) \n",
    "positive_train_new_words_label = [\"Positive\"] * len(positive_train_new_words_list)\n",
    "negative_train_new_words_label = [\"Negative\"] * len(negative_train_new_words_list)\n",
    "new_training_set = positive_train_new_words_list + negative_train_new_words_list\n",
    "new_training_label = positive_train_new_words_label + negative_train_new_words_label\n",
    "\n",
    "positive_test_new_words_list = []\n",
    "for words_list in positive_train_data:\n",
    "    positive_test_new_words_list.append(' '.join(words_list))\n",
    "negative_test_new_words_list = []\n",
    "for words_list in negative_train_data:\n",
    "    negative_test_new_words_list.append(' '.join(words_list))\n",
    "positive_test_new_words_label = [\"Positive\"] * len(positive_test_new_words_list)\n",
    "negative_test_new_words_label = [\"Negative\"] * len(negative_test_new_words_list)\n",
    "new_test_data = positive_test_new_words_list + negative_test_new_words_list\n",
    "new_test_label = positive_test_new_words_label + negative_test_new_words_label\n",
    "\n",
    "positive_development_new_words_list = []\n",
    "for words_list in positive_development_data:\n",
    "    positive_development_new_words_list.append(' '.join(words_list))\n",
    "negative_development_new_words_list = []\n",
    "for words_list in negative_development_data:\n",
    "    negative_development_new_words_list.append(' '.join(words_list)) \n",
    "positive_development_new_words_label = [\"Positive\"] * len(positive_development_new_words_list)\n",
    "negative_development_new_words_label = [\"Negative\"] * len(negative_development_new_words_list)\n",
    "new_development_set = positive_development_new_words_list + negative_development_new_words_list\n",
    "new_development_label = positive_development_new_words_label + negative_development_new_words_label\n"
   ]
  },
  {
   "cell_type": "markdown",
   "metadata": {},
   "source": [
    "<b>Instructions</b>: Now, let's build some classifiers. Here, we'll be comparing Naive Bayes and Logistic Regression. For each, you need to first find a good value for their main regularisation (hyper)parameters, which you should identify using the scikit-learn docs or other resources. Use the development set you created for this tuning process; do <b>not</b> use crossvalidation in the training set, or involve the test set in any way. You don't need to show all your work, but you do need to print out the accuracy with enough different settings to strongly suggest you have found an optimal or near-optimal choice. We should not need to look at your code to interpret the output. (1.0)"
   ]
  },
  {
   "cell_type": "code",
   "execution_count": 14,
   "metadata": {
    "collapsed": true
   },
   "outputs": [],
   "source": [
    "from sklearn.naive_bayes import MultinomialNB\n",
    "from sklearn.linear_model import LogisticRegression\n",
    "from sklearn.feature_extraction.text import CountVectorizer\n",
    "from sklearn.feature_extraction.text import TfidfTransformer\n",
    "import numpy as np\n",
    "from sklearn.pipeline import Pipeline\n",
    "from sklearn.model_selection import GridSearchCV\n",
    "count_vect = CountVectorizer()\n",
    "\n",
    "X_train_counts = count_vect.fit_transform(new_training_set)\n",
    "tfidf_transformer = TfidfTransformer()\n",
    "X_train = tfidf_transformer.fit_transform(X_train_counts)\n",
    "X_test_counts = count_vect.transform(new_test_data)\n",
    "X_test = tfidf_transformer.transform(X_test_counts)\n",
    "X_dev_counts = count_vect.transform(new_development_set)\n",
    "X_dev = tfidf_transformer.transform(X_dev_counts)"
   ]
  },
  {
   "cell_type": "code",
   "execution_count": 18,
   "metadata": {},
   "outputs": [
    {
     "name": "stdout",
     "output_type": "stream",
     "text": [
      "0.753\n",
      "0.725\n",
      "0.722\n",
      "0.762\n",
      "0.764\n",
      "0.759\n",
      "Therefore alpha with default value of 3 is the optimal or near optimal choice for the NB classifier\n"
     ]
    }
   ],
   "source": [
    "text_clf = Pipeline([('vect', CountVectorizer()),('tfidf', TfidfTransformer()),('clf', MultinomialNB()),])\n",
    "\n",
    "clf_nb = MultinomialNB().fit(X_train, new_training_label)\n",
    "predicted_clf_nb = clf_nb.predict(X_dev)\n",
    "clf_nb_dev_accuracy = np.mean(predicted_clf_nb == new_development_label)\n",
    "print(clf_nb_dev_accuracy)\n",
    "\n",
    "clf2_nb = MultinomialNB(alpha=0.01).fit(X_train, new_training_label)\n",
    "predicted_cl2_nb = clf2_nb.predict(X_dev)\n",
    "clf2_nb_dev_accuracy = np.mean(predicted_cl2_nb == new_development_label)\n",
    "print(clf2_nb_dev_accuracy)\n",
    "\n",
    "clf3_nb = MultinomialNB(alpha=0.001).fit(X_train, new_training_label)\n",
    "predicted_cl3_nb = clf3_nb.predict(X_dev)\n",
    "clf3_nb_dev_accuracy = np.mean(predicted_cl3_nb == new_development_label)\n",
    "print(clf3_nb_dev_accuracy)\n",
    "\n",
    "clf4_nb = MultinomialNB(alpha=2).fit(X_train, new_training_label)\n",
    "predicted_cl4_nb = clf4_nb.predict(X_dev)\n",
    "clf4_nb_dev_accuracy = np.mean(predicted_cl4_nb == new_development_label)\n",
    "print(clf4_nb_dev_accuracy)\n",
    "\n",
    "clf5_nb = MultinomialNB(alpha=3).fit(X_train, new_training_label)\n",
    "predicted_cl5_nb = clf5_nb.predict(X_dev)\n",
    "clf5_nb_dev_accuracy = np.mean(predicted_cl5_nb == new_development_label)\n",
    "print(clf5_nb_dev_accuracy)\n",
    "\n",
    "clf6_nb = MultinomialNB(alpha=4).fit(X_train, new_training_label)\n",
    "predicted_cl6_nb = clf6_nb.predict(X_dev)\n",
    "clf6_nb_dev_accuracy = np.mean(predicted_cl6_nb == new_development_label)\n",
    "print(clf6_nb_dev_accuracy)\n",
    "\n",
    "print(\"Therefore alpha with default value of 3 is the optimal or near optimal choice for the NB classifier\")\n"
   ]
  },
  {
   "cell_type": "code",
   "execution_count": 19,
   "metadata": {
    "scrolled": true
   },
   "outputs": [
    {
     "name": "stdout",
     "output_type": "stream",
     "text": [
      "0.751\n",
      "The default setting of logistic regression with l2 for regulation with parameter of 6 is the optimal/near optimal setting and yield 0.75\n"
     ]
    }
   ],
   "source": [
    "clf_log = LogisticRegression().fit(X_train, new_training_label)\n",
    "predicted_clf_log = clf_log.predict(X_dev)\n",
    "clg_log_accuracy = np.mean(predicted_clf_log == new_development_label)\n",
    "print(clg_log_accuracy)\n",
    "\n",
    "clf_log2 = LogisticRegression(penalty='l2',C=6).fit(X_train, new_training_label)\n",
    "predicted_clf_log2 = clf_log2.predict(X_dev)\n",
    "clg_log2_accuracy = np.mean(predicted_clf_log2 == new_development_label)\n",
    "print(\"The default setting of logistic regression with l2 for regulation with parameter of 6 is the optimal/near optimal setting and yield {}\".format(clg_log2_accuracy))\n"
   ]
  },
  {
   "cell_type": "markdown",
   "metadata": {},
   "source": [
    "<b>Instructions</b>: Using the best settings you have found, compare the two classifiers based on performance in the test set. Print out both accuracy and macroaveraged f-score for each classifier. Be sure to label your output. (0.5)"
   ]
  },
  {
   "cell_type": "code",
   "execution_count": 17,
   "metadata": {},
   "outputs": [
    {
     "name": "stdout",
     "output_type": "stream",
     "text": [
      "NB clssifier gives the accuracy of 0.872375 and Logistic classifier gives the accuracy of 0.948875\n",
      "NB classifier precision, rcall and f1-score is the following: \n",
      "             precision    recall  f1-score   support\n",
      "\n",
      "   Negative       0.86      0.89      0.87      4000\n",
      "   Positive       0.88      0.86      0.87      4000\n",
      "\n",
      "avg / total       0.87      0.87      0.87      8000\n",
      "\n",
      "Logisitics classifier precision, rcall and f1-score is the following: \n",
      "             precision    recall  f1-score   support\n",
      "\n",
      "   Negative       0.94      0.96      0.95      4000\n",
      "   Positive       0.96      0.94      0.95      4000\n",
      "\n",
      "avg / total       0.95      0.95      0.95      8000\n",
      "\n"
     ]
    }
   ],
   "source": [
    "from sklearn import metrics\n",
    "predicted_cl_nb = clf5_nb.predict(X_test)\n",
    "clf_nb_test_accuracy = np.mean(predicted_cl_nb == new_test_label)\n",
    "\n",
    "predicted_clf_log = clf_log2.predict(X_test)\n",
    "clf_log_test_accuracy = np.mean(predicted_clf_log == new_test_label)\n",
    "print(\"NB clssifier gives the accuracy of {} and Logistic classifier gives the accuracy of {}\".format(clf_nb_test_accuracy, clf_log_test_accuracy))\n",
    "print(\"NB classifier precision, rcall and f1-score is the following: \")\n",
    "print(metrics.classification_report(new_test_label, predicted_cl_nb))\n",
    "print(\"Logisitics classifier precision, rcall and f1-score is the following: \")\n",
    "print(metrics.classification_report(new_test_label, predicted_clf_log))\n"
   ]
  }
 ],
 "metadata": {
  "anaconda-cloud": {},
  "kernelspec": {
   "display_name": "Python 2",
   "language": "python",
   "name": "python2"
  },
  "language_info": {
   "codemirror_mode": {
    "name": "ipython",
    "version": 2
   },
   "file_extension": ".py",
   "mimetype": "text/x-python",
   "name": "python",
   "nbconvert_exporter": "python",
   "pygments_lexer": "ipython2",
   "version": "2.7.14"
  }
 },
 "nbformat": 4,
 "nbformat_minor": 1
}
